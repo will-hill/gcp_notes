{
 "cells": [
  {
   "cell_type": "markdown",
   "id": "2aacadb8-d91c-458b-9d84-db619bbc6815",
   "metadata": {},
   "source": [
    "# Things to Code\n",
    "### [ ] Doc AI JSON Schema  \n",
    "### [ ] Google Maps API Integration  \n",
    "### [ ] PDF Data Generator  \n",
    "### [ ] Document Table Cropper  "
   ]
  },
  {
   "cell_type": "markdown",
   "id": "90b331ac-223e-478f-b490-590801fff5e3",
   "metadata": {},
   "source": [
    "  "
   ]
  },
  {
   "cell_type": "markdown",
   "id": "0818c765-7591-4cde-8910-011aa91f0072",
   "metadata": {},
   "source": [
    "  "
   ]
  },
  {
   "cell_type": "markdown",
   "id": "981dddf9-4693-4080-8a84-718495edc6c6",
   "metadata": {},
   "source": [
    "  "
   ]
  },
  {
   "cell_type": "markdown",
   "id": "2854d188-a56c-4d96-8131-053af04edc27",
   "metadata": {},
   "source": [
    "# Doc AI JSON Schema"
   ]
  },
  {
   "cell_type": "code",
   "execution_count": null,
   "id": "6106a72d-14dc-4aab-a9e4-0236fca878b3",
   "metadata": {},
   "outputs": [],
   "source": [
    "from google.cloud import documentai_v1beta3 as documentai\n",
    "from google.cloud import bigquery\n",
    "from wand.image import Image as WImage\n",
    "import pandas as pd\n",
    "\n",
    "PROJECT_ID = 'doc-ai-ce'\n",
    "PROCESSOR_ID = 'e38c82311d145f3b'\n",
    "LOCATION = 'us'"
   ]
  }
 ],
 "metadata": {
  "kernelspec": {
   "display_name": "Python 3",
   "language": "python",
   "name": "python3"
  },
  "language_info": {
   "codemirror_mode": {
    "name": "ipython",
    "version": 3
   },
   "file_extension": ".py",
   "mimetype": "text/x-python",
   "name": "python",
   "nbconvert_exporter": "python",
   "pygments_lexer": "ipython3",
   "version": "3.8.6"
  }
 },
 "nbformat": 4,
 "nbformat_minor": 5
}
